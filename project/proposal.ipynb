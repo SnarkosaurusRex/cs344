{
  "nbformat": 4,
  "nbformat_minor": 0,
  "metadata": {
    "colab": {
      "name": "proposal.ipynb",
      "version": "0.3.2",
      "provenance": [],
      "collapsed_sections": []
    },
    "kernelspec": {
      "name": "python3",
      "language": "python",
      "display_name": "Python 3"
    }
  },
  "cells": [
    {
      "metadata": {
        "id": "Ust2gbpQWyl4",
        "colab_type": "text",
        "pycharm": {}
      },
      "cell_type": "markdown",
      "source": "## Project Proposal\n### Draft #2a\n\nGiven the fact that I have had less than 24 hours to consider potential Prolog projects, as well as the fact that there\u0027s an orchestra concert tomorrow morning, this draft will be very similar to the first draft, but for the new project idea I would like to pursue. I will follow this up with a full Draft #2 as soon as possible; any mercy granted because of the aformentioned circumstances would be most welcome and appreciated!\n\nThe new project idea that I would like to propose is for a musical notation grammar. This would use Prolog to implement a grammar representing musical rhythms within measures in a given time signature. Given a specific time signature, the grammar would ensure that measures could only be subdivided into the correct number of beats according to the time signature. The production rules of this grammar would also specify how certain types of notes/rests could be broken down into shorter notes/rests (e.g. half note –\u003e two quarter notes).\n\nIn order to implement this, I would be using material covered in chapters 7-8 of _Learn Prolog Now!_ by Patrick Blackburn, Johan Bos, and Kristina Striegnitz.\nThe example domain I would apply this to would be some actual musical examples (likely adapted from something we\u0027ll be playing in tomorrow\u0027s orchestra concert :D ).\n\n---\n### Draft #1\n\nAt this point, I\u0027m thinking that I would like to build a convnet to recognize/classify various dog breeds from photos. To do this, I plan to use the Stanford Dogs dataset ( https://www.kaggle.com/jessicali9530/stanford-dogs-dataset ), which contains 20,580 images from 120 different categories.\n\nI expect that implementing this will use much of the same technology as the cats vs. dogs example from Lab 9. It will be different, though, in that it is more complicated, considering the fact that identifying a specific breed of dog is more complex a task than just determining if it is a dog as opposed to a cat. If appropriate/applicable, I might also try to incorporate a new concept from _Deep Learning with Python_ by F. Chollet (Section 2.1)/the examples found at https://github.com/fchollet/deep-learning-with-python-notebooks.\n"
    }
  ]
}