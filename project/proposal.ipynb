{
  "nbformat": 4,
  "nbformat_minor": 0,
  "metadata": {
    "colab": {
      "name": "proposal.ipynb",
      "version": "0.3.2",
      "provenance": [],
      "collapsed_sections": []
    },
    "kernelspec": {
      "name": "python3",
      "display_name": "Python 3"
    }
  },
  "cells": [
    {
      "metadata": {
        "id": "Ust2gbpQWyl4",
        "colab_type": "text"
      },
      "cell_type": "markdown",
      "source": [
        "##Project Proposal\n",
        "###Draft #1\n",
        "\n",
        "At this point, I'm thinking that I would like to build a convnet to recognize/classify various dog breeds from photos. To do this, I plan to use the Stanford Dogs dataset ( https://www.kaggle.com/jessicali9530/stanford-dogs-dataset ), which contains 20,580 images from 120 different categories.\n",
        "\n",
        "I expect that implementing this will use much of the same technology as the cats vs. dogs example from Lab 9. It will be different, though, in that it is more complicated, considering the fact that identifying a specific breed of dog is more complex a task than just determining if it is a dog as opposed to a cat. If appropriate/applicable, I might also try to incorporate a new concept from _Deep Learning with Python_ by F. Chollet (Section 2.1)/the examples found at https://github.com/fchollet/deep-learning-with-python-notebooks."
      ]
    }
  ]
}