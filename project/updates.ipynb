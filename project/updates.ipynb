{
  "nbformat": 4,
  "nbformat_minor": 0,
  "metadata": {
    "colab": {
      "name": "proposal.ipynb",
      "version": "0.3.2",
      "provenance": [],
      "collapsed_sections": []
    },
    "kernelspec": {
      "name": "python3",
      "language": "python",
      "display_name": "Python 3"
    }
  },
  "cells": [
    {
      "metadata": {
        "id": "Ust2gbpQWyl4",
        "colab_type": "text",
        "pycharm": {}
      },
      "cell_type": "markdown",
      "source": "\n## Updates Since Walkthrough\nSince the project walkthrough meeting, I have implemented the DCG for time signatures.\nI have also added the remaining final submission materials.\n\n\n"
    }
  ]
}