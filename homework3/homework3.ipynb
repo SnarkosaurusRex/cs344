{
 "cells": [
  {
   "cell_type": "markdown",
   "metadata": {},
   "source": [
    "### Homework 3\n",
    "**Part 1**"
   ]
  },
  {
   "cell_type": "markdown",
   "metadata": {},
   "source": [
    "Because it is a non-linear problem (i.e. can't be separated linearly), the XOR function can only be computed by using a non-linear activation function and back-propogation."
   ]
  },
  {
   "cell_type": "markdown",
   "metadata": {},
   "source": [
    "**Part 2**"
   ]
  },
  {
   "cell_type": "code",
   "execution_count": null,
   "metadata": {},
   "outputs": [],
   "source": [
    "#setup\n",
    "import pandas\n",
    "import numpy\n",
    "\n",
    "#load in the data\n",
    "boston_df = pandas.read_csv(\"https://raw.githubusercontent.com/selva86/datasets/master/BostonHousing.csv\")\n",
    "print(boston_df.head())"
   ]
  },
  {
   "cell_type": "markdown",
   "metadata": {},
   "source": [
    "Compute and display the dimensions of the Boston Housing Dataset:"
   ]
  },
  {
   "cell_type": "code",
   "execution_count": null,
   "metadata": {},
   "outputs": [],
   "source": [
    "#2a - print dimensions\n",
    "print('Count: {}'.format(len(boston_df)))\n",
    "print('Dimensions: {}'.format(boston_df.ndim))\n",
    "print('Shape: {}'.format(boston_df.shape))\n",
    "print('Data Types: \\n{}'.format(boston_df.dtypes))"
   ]
  },
  {
   "cell_type": "markdown",
   "metadata": {},
   "source": [
    "Split the dataset into training, testing, and validation sets:"
   ]
  },
  {
   "cell_type": "code",
   "execution_count": 1,
   "metadata": {},
   "outputs": [],
   "source": [
    "#shuffle the data first\n",
    "boston_df = boston_df.reindex(numpy.random.permutation(boston_df.index))\n",
    "print(boston_df.head())\n",
    "\n",
    "trainingSet = boston_df[:380]\n",
    "validationSet = boston_df[380:440]\n",
    "testSet = boston_df[440:]"
   ]
  },
  {
   "cell_type": "markdown",
   "metadata": {},
   "source": [
    "Create a new synthetic feature:\n",
    "The synthetic feature I created is a proximity rating (\"prox\") based on the dis (weighted mean of distances to five Boston employment centres) and rad (index of accessibility to radial highways) columns. If both the dis value and the rad value are below the average value for the dataset, prox is True. This could be a helpful indicator of the location of the property, which is a very important consideration in real estate and would thus contribute to the home value (medv)."
   ]
  },
  {
   "cell_type": "code",
   "execution_count": null,
   "metadata": {},
   "outputs": [],
   "source": [
    "boston_df[\"prox\"] = (boston_df[\"dis\"] < boston_df[\"dis\"].mean()) & (boston_df[\"rad\"] < boston_df[\"rad\"].mean())"
   ]
  }
 ],
 "metadata": {
  "kernelspec": {
   "display_name": "Python 3",
   "language": "python",
   "name": "python3"
  },
  "language_info": {
   "codemirror_mode": {
    "name": "ipython",
    "version": 3
   },
   "file_extension": ".py",
   "mimetype": "text/x-python",
   "name": "python",
   "nbconvert_exporter": "python",
   "pygments_lexer": "ipython3",
   "version": "3.6.8"
  }
 },
 "nbformat": 4,
 "nbformat_minor": 2
}
