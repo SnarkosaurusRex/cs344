{
 "cells": [
  {
   "cell_type": "markdown",
   "metadata": {
    "collapsed": true
   },
   "source": [
    "# Homework 1"
   ]
  },
  {
   "cell_type": "markdown",
   "metadata": {},
   "source": [
    "## 1.1\n",
    "\n",
    "    I don't think that introspection would be a very good guide for modeling human cognitive processes. Introspection is internally-based, meaning that it gets its information from inside itself, which doesn't really work for an artificial intelligence, given that it requires information from outside the brain to learn from in the first place.\n",
    "    Introspection also inherently involves self-consciousness, which isn't something an artificial intelligence is capable of. Introspection also focuses on thoughts and feelings, which requires the capacity for emotions, which artificial intelligence lacks. Altogether, artificial intelligence lacks the self-awareness that is the basis of introspection, and that is very possibly a good thing, since a truly self-aware artificial intelligence would be rather concerning."
   ]
  },
  {
   "cell_type": "markdown",
   "metadata": {},
   "source": [
    "## 1.2\n",
    "\n",
    "TSP Problem Formulation:\n",
    "State representation: \n",
    "        [c1, c2, ..., cn] gives the order in which the cities are visited.\n",
    "    Move representation: \n",
    "        [num1, num2]: Swap the positions (within the list) of the cities at the given indexes."
   ]
  },
  {
   "cell_type": "markdown",
   "metadata": {},
   "source": [
    "\"\"\"\n",
    "This implements a local-search version of a TSP problem for AIMA-Python.\n",
    "Based on kvlinden's queens.py.\n",
    "\n",
    "@authors: ljh27 & slg27\n",
    "\"\"\"\n",
    "from tools.aima.search import Problem, hill_climbing, simulated_annealing, exp_schedule\n",
    "from random import randrange\n",
    "\n",
    "\n",
    "class TSP(Problem):\n",
    "    \"\"\"An implementation of a TSP problem for local search.\n",
    "\n",
    "    State representation: \n",
    "        [c1, c2, ..., cn] gives the order in which the cities are visited.\n",
    "    Move representation: \n",
    "        [num1, num2]: Swap the positions (within the list) of the cities at the given indexes.\n",
    "    \"\"\"\n",
    "\n",
    "    def __init__(self, distances, initial):\n",
    "        self.distances = distances\n",
    "        self.initial = initial\n",
    "\n",
    "    def actions(self, state):\n",
    "        \"\"\"This method generates two random integers to be used as indexes in a move.\n",
    "        \"\"\"\n",
    "        num_cities = len(state) - 1 #minus 1 because start and end in same city\n",
    "        actions = []\n",
    "        for i in range(6):\n",
    "            num1 = randrange(1, num_cities)\n",
    "            num2 = randrange(1, num_cities)\n",
    "            action = [num1, num2]\n",
    "            actions.append(action)\n",
    "        return actions\n",
    "\n",
    "    def result(self, state, move):\n",
    "        \"\"\"Makes the given move (swaps the positions of the cities at the given\n",
    "        indexes) on a copy of the given state.\"\"\"\n",
    "        new_state = state[:]\n",
    "        new_state[move[0]], new_state[move[1]] = new_state[move[1]], new_state[move[0]]\n",
    "        return new_state\n",
    "\n",
    "    def value(self, state):\n",
    "        \"\"\"This method computes the total distance traveled in the given state by adding\n",
    "        up the distance of each segment, then multiplying it by -1 to more semantically\n",
    "        reflect that greater distance is less ideal.\n",
    "        \"\"\"\n",
    "        num_visits = len(state)\n",
    "        value = 0\n",
    "\n",
    "        for i in range(1, num_visits):\n",
    "            try:\n",
    "                value += distances[(state[i-1], state[i])]\n",
    "            except KeyError:\n",
    "                value += distances[(state[i], state[i - 1])]\n",
    "\n",
    "        value = -1 * value\n",
    "\n",
    "        return value"
   ]
  },
  {
   "cell_type": "markdown",
   "metadata": {},
   "source": [
    "My sample city-domain is made up of 5 cities represented by the letters A-E.\n",
    "The two algorithms do sometimes reach the same result, but overall the simulated annealing algorithm tends to find a better solution than the hill-climbing algorithm does because it \"looks ahead\" more and is thus willing to move to a less-ideal state in order to progress into a better state from there, whereas the hill-climbing algorithm only ever takes steps that are immediately beneficial."
   ]
  },
  {
   "cell_type": "code",
   "execution_count": null,
   "metadata": {},
   "outputs": [],
   "source": [
    "if __name__ == '__main__':\n",
    "\n",
    "    # Initialize a path and a dictionary of distances between cities\n",
    "    initial_path = ['A', 'B', 'C', 'D', 'E', 'A']\n",
    "    distances = {('A', 'B'): 1, ('A', 'C'): 3, ('A', 'D'): 2, ('A', 'E'): 4, ('B', 'C'): 3, ('B', 'D'): 2, ('B', 'E'): 1, ('C', 'D'): 8, ('C', 'E'): 3, ('D', 'E'): 5}\n",
    "\n",
    "    # Initialize the TSP problem\n",
    "    p = TSP(distances, initial_path)\n",
    "\n",
    "    # Solve the problem using hill climbing.\n",
    "    hill_solution = hill_climbing(p)\n",
    "    print('Hill-climbing:')\n",
    "    print('\\tSolution: ' + str(hill_solution))\n",
    "    print('\\tDistance:    ' + str(p.value(hill_solution)))\n",
    "\n",
    "    # Solve the problem using simulated annealing.\n",
    "    annealing_solution = simulated_annealing(\n",
    "        p,\n",
    "        exp_schedule(k=20, lam=0.005, limit=10000)\n",
    "    )\n",
    "    print('Simulated annealing:')\n",
    "    print('\\tSolution: ' + str(annealing_solution))\n",
    "    print('\\tDistance:    ' + str(p.value(annealing_solution)))"
   ]
  },
  {
   "cell_type": "markdown",
   "metadata": {},
   "source": []
  },
  {
   "cell_type": "markdown",
   "metadata": {},
   "source": [
    "## 1.3\n",
    "\n",
    "The following code implements a course-scheduling CSP. As we discussed in class, the courses to be scheduled are the variables, the domains are represented in a dictionary in which the keys are the courses and the values are lists of tuples containing the possible combinations of professor, classroom, and class time. Every class is a neighbor of every other class. The constraint function checks if there are any conflicts between professors and times or between times and rooms.\n",
    "\n",
    "In order to implement this scheduler CSP, I wrote 3 new methods: the first generates all the possible combinations of the given classrooms and class times, which the second method uses to generate the domains dictionary. The third generates a dictionary specifying the neighbors of each course, which are used to evaluate the constraints using the schedule_constraint method. The third new method I added generates the neighbors non-reflexively, since it would be redundant to compare, for instance, cs108 to cs112 if you had already compared cs112 to cs108. I chose this way of formulating/implementing the problem because it fit with what we talked about in class, and it was the way that things made the most clear sense to me."
   ]
  },
  {
   "cell_type": "code",
   "execution_count": 2,
   "metadata": {},
   "outputs": [
    {
     "ename": "ModuleNotFoundError",
     "evalue": "No module named 'tools'",
     "output_type": "error",
     "traceback": [
      "\u001b[0;31m---------------------------------------------------------------------------\u001b[0m",
      "\u001b[0;31mModuleNotFoundError\u001b[0m                       Traceback (most recent call last)",
      "\u001b[0;32m<ipython-input-2-7f91546668bd>\u001b[0m in \u001b[0;36m<module>\u001b[0;34m\u001b[0m\n\u001b[1;32m      7\u001b[0m \"\"\"\n\u001b[1;32m      8\u001b[0m \u001b[0;34m\u001b[0m\u001b[0m\n\u001b[0;32m----> 9\u001b[0;31m \u001b[0;32mfrom\u001b[0m \u001b[0mtools\u001b[0m\u001b[0;34m.\u001b[0m\u001b[0maima\u001b[0m\u001b[0;34m.\u001b[0m\u001b[0mcsp\u001b[0m \u001b[0;32mimport\u001b[0m \u001b[0mCSP\u001b[0m\u001b[0;34m,\u001b[0m \u001b[0mmin_conflicts\u001b[0m\u001b[0;34m\u001b[0m\u001b[0;34m\u001b[0m\u001b[0m\n\u001b[0m\u001b[1;32m     10\u001b[0m \u001b[0;34m\u001b[0m\u001b[0m\n\u001b[1;32m     11\u001b[0m \u001b[0;34m\u001b[0m\u001b[0m\n",
      "\u001b[0;31mModuleNotFoundError\u001b[0m: No module named 'tools'"
     ]
    }
   ],
   "source": [
    "\"\"\"scheduler.py implements a course-scheduling CSP.\n",
    "    variables   A list of the courses to be scheduled\n",
    "    domains     A dictionary in which the keys are the courses and the values are triples containing the possible\n",
    "                professor/room/time combinations\n",
    "    neighbors   All course pairs\n",
    "    constraint_function: a function that returns false if the given variable values are conflicting\n",
    "\"\"\"\n",
    "\n",
    "from tools.aima.csp import CSP, min_conflicts\n",
    "\n",
    "\n",
    "def create_timeroom_slots(times, rooms):\n",
    "    timeroom_slots = []\n",
    "    for time in times:\n",
    "        for room in rooms:\n",
    "            timeroom_slots.append((time, room))\n",
    "    return timeroom_slots\n",
    "\n",
    "\n",
    "def create_domains(courses, assignments, timeroom_slots):\n",
    "    domains = {}\n",
    "    for course in courses:\n",
    "        dom = []\n",
    "        prof = assignments[course]\n",
    "        for slot in timeroom_slots:\n",
    "            dom.append((prof, slot[0], slot[1]))\n",
    "        domains[course] = dom\n",
    "    return domains\n",
    "\n",
    "\n",
    "def create_nonreflexive_neighbors(courses):\n",
    "    neighbors = {}\n",
    "    num_courses = len(courses)\n",
    "    for i in range(num_courses):\n",
    "        nbrs = []\n",
    "        for j in range(i+1, num_courses):\n",
    "            nbrs.append(courses[j])\n",
    "        neighbors[courses[i]] = nbrs\n",
    "    return neighbors\n",
    "\n",
    "\n",
    "def schedule_constraint(course1, slot1, course2, slot2):\n",
    "    #grab the details from each slot\n",
    "    prof1 = slot1[0]\n",
    "    time1 = slot1[1]\n",
    "    room1 = slot1[2]\n",
    "    prof2 = slot2[0]\n",
    "    time2 = slot2[1]\n",
    "    room2 = slot2[2]\n",
    "\n",
    "    #make sure there aren't any time/room overlaps\n",
    "    no_room_conflict = (time1 != time2) or (room1 != room2)\n",
    "\n",
    "    #make sure there aren't any prof/time overlaps\n",
    "    no_prof_conflict = (prof1 != prof2) or (time1 != time2)\n",
    "\n",
    "    #only return true if there are no conflicts of either type\n",
    "    return (no_room_conflict and no_prof_conflict)\n",
    "\n",
    "\n",
    "#Set up some test data\n",
    "courses = ['cs108', 'cs112', 'cs212', 'cs214', 'cs232', 'cs262', 'cs342']\n",
    "faculty = ['adams', 'plantinga', 'bailey', 'schuurman']\n",
    "assignments = {'cs108': 'schuurman', 'cs112': 'adams', 'cs212': 'plantinga', 'cs214': 'schuurman', 'cs232': 'adams', 'cs262': 'bailey', 'cs342': 'bailey'}\n",
    "classtimes = ['mwf0900', 'mwf1030', 'mwf1130', 'mwf1230']\n",
    "classrooms = ['nh253', 'sb382']\n",
    "slots = create_timeroom_slots(classtimes, classrooms)\n",
    "domains = create_domains(courses, assignments, slots)\n",
    "neighbors = create_nonreflexive_neighbors(courses)\n",
    "\n",
    "#Run it!\n",
    "solution = min_conflicts(CSP(courses, domains, neighbors, schedule_constraint))\n",
    "\n",
    "print('Variables: ' + str(courses))\n",
    "print('Domains:')\n",
    "for d in domains:\n",
    "    print(\"\\t{0}: {1}\".format(d, domains[d]))\n",
    "print('Neighbors (non-reflexive):')\n",
    "for n in neighbors:\n",
    "    print(\"\\t{0}: {1}\".format(n, neighbors[n]))\n",
    "print('Solution:')\n",
    "for s in solution:\n",
    "    print(\"\\t{0}: {1}\".format(s, solution[s]))"
   ]
  },
  {
   "cell_type": "code",
   "execution_count": null,
   "metadata": {},
   "outputs": [],
   "source": []
  }
 ],
 "metadata": {
  "kernelspec": {
   "display_name": "Python 3",
   "language": "python",
   "name": "python3"
  },
  "language_info": {
   "codemirror_mode": {
    "name": "ipython",
    "version": 3
   },
   "file_extension": ".py",
   "mimetype": "text/x-python",
   "name": "python",
   "nbconvert_exporter": "python",
   "pygments_lexer": "ipython3",
   "version": "3.6.8"
  }
 },
 "nbformat": 4,
 "nbformat_minor": 1
}
